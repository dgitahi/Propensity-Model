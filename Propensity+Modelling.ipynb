{
 "cells": [
  {
   "cell_type": "markdown",
   "metadata": {},
   "source": [
    "# Propensity Modelling"
   ]
  },
  {
   "cell_type": "markdown",
   "metadata": {},
   "source": [
    "## Modelling to identify customers who might take up or buy a specific product\n",
    "### Contact the right customers with the right offer to the right channel at the right time\n"
   ]
  },
  {
   "cell_type": "markdown",
   "metadata": {},
   "source": [
    "Vodacom launced the digital contents initiative in Septemter 2017. The service amongst others include the ability to buy applications from sevices like Google Play and having the option to pay with airtime or get billed to your Vodacom contract.\n",
    "\n",
    "The benefit to Vodacom is two-fold. There is a shared revenue agreement with the different service providers and as a result of purchasing and downlaoding apps data usage also increases.\n",
    "\n",
    "Since its inception the digitial contents intiative has not used any advanced machine learning in or intelligent campaigns in order to target and expand this product offering and marketing this to new customers.\n",
    "\n",
    "The purpose of this study is to determine if we are able to use machine learning and 3 months worth of historical data to train a model that will be able to predict and identify new customers to which Vodacom can expand and market the digital contents offering.\n",
    "\n",
    "The scope of this project is focused on the Google Play service since that is where the most potential revenue lies. This can always be expanded to the other 8 digital channels like Netflix for example.\n"
   ]
  }
 ],
 "metadata": {
  "kernelspec": {
   "display_name": "Python 3",
   "language": "python",
   "name": "python3"
  },
  "language_info": {
   "codemirror_mode": {
    "name": "ipython",
    "version": 3
   },
   "file_extension": ".py",
   "mimetype": "text/x-python",
   "name": "python",
   "nbconvert_exporter": "python",
   "pygments_lexer": "ipython3",
   "version": "3.6.3"
  }
 },
 "nbformat": 4,
 "nbformat_minor": 2
}
